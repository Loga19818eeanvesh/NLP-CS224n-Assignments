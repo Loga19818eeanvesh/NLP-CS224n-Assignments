{
  "nbformat": 4,
  "nbformat_minor": 0,
  "metadata": {
    "colab": {
      "name": "NLP_C2W1_L1_Building the vocabulary.ipynb",
      "provenance": [],
      "authorship_tag": "ABX9TyPboWucy6t44nM0rT5OCzGg",
      "include_colab_link": true
    },
    "kernelspec": {
      "name": "python3",
      "display_name": "Python 3"
    },
    "language_info": {
      "name": "python"
    }
  },
  "cells": [
    {
      "cell_type": "markdown",
      "metadata": {
        "id": "view-in-github",
        "colab_type": "text"
      },
      "source": [
        "<a href=\"https://colab.research.google.com/github/Loga19818eeanvesh/Natural_Language_Processing-Assignments/blob/main/NLP_C2W1_L1_Building_the_vocabulary.ipynb\" target=\"_parent\"><img src=\"https://colab.research.google.com/assets/colab-badge.svg\" alt=\"Open In Colab\"/></a>"
      ]
    },
    {
      "cell_type": "code",
      "execution_count": 1,
      "metadata": {
        "id": "2y25b8teH6lp"
      },
      "outputs": [],
      "source": [
        "# imports\n",
        "import re # regular expression library; for tokenization of words\n",
        "from collections import Counter # collections library; counter: dict subclass for counting hashable objects\n",
        "import matplotlib.pyplot as plt # for data visualization"
      ]
    },
    {
      "cell_type": "code",
      "source": [
        "# the tiny corpus of text ! \n",
        "text = 'red pink pink blue blue yellow ORANGE BLUE BLUE PINK' # 🌈\n",
        "print(text)\n",
        "print('string length : ',len(text))"
      ],
      "metadata": {
        "colab": {
          "base_uri": "https://localhost:8080/"
        },
        "id": "RURTuRFWIMqq",
        "outputId": "cf5d64c4-6b45-4091-b764-08ccbc995740"
      },
      "execution_count": 2,
      "outputs": [
        {
          "output_type": "stream",
          "name": "stdout",
          "text": [
            "red pink pink blue blue yellow ORANGE BLUE BLUE PINK\n",
            "string length :  52\n"
          ]
        }
      ]
    },
    {
      "cell_type": "code",
      "source": [
        "# convert all letters to lower case\n",
        "text_lowercase = text.lower()\n",
        "print(text_lowercase)\n",
        "print('string length : ',len(text_lowercase))"
      ],
      "metadata": {
        "colab": {
          "base_uri": "https://localhost:8080/"
        },
        "id": "SSaZCDVCISkl",
        "outputId": "b921fce0-5624-4c5a-f4b0-0415f60a140c"
      },
      "execution_count": 3,
      "outputs": [
        {
          "output_type": "stream",
          "name": "stdout",
          "text": [
            "red pink pink blue blue yellow orange blue blue pink\n",
            "string length :  52\n"
          ]
        }
      ]
    },
    {
      "cell_type": "code",
      "source": [
        "# some regex to tokenize the string to words and return them in a list\n",
        "words = re.findall(r'\\w+', text_lowercase)\n",
        "print(words)\n",
        "print('count : ',len(words))"
      ],
      "metadata": {
        "colab": {
          "base_uri": "https://localhost:8080/"
        },
        "id": "_6468R1FIX-l",
        "outputId": "7db095f7-aece-4753-de4f-95eb98cad14d"
      },
      "execution_count": 4,
      "outputs": [
        {
          "output_type": "stream",
          "name": "stdout",
          "text": [
            "['red', 'pink', 'pink', 'blue', 'blue', 'yellow', 'orange', 'blue', 'blue', 'pink']\n",
            "count :  10\n"
          ]
        }
      ]
    },
    {
      "cell_type": "code",
      "source": [
        "# create vocab\n",
        "vocab = set(words)\n",
        "print(vocab)\n",
        "print('count : ',len(vocab))"
      ],
      "metadata": {
        "colab": {
          "base_uri": "https://localhost:8080/"
        },
        "id": "4fn6sSzsIbsI",
        "outputId": "cd54fab3-f37d-4c52-8aa1-0d473616989c"
      },
      "execution_count": 5,
      "outputs": [
        {
          "output_type": "stream",
          "name": "stdout",
          "text": [
            "{'blue', 'yellow', 'pink', 'orange', 'red'}\n",
            "count :  5\n"
          ]
        }
      ]
    },
    {
      "cell_type": "code",
      "source": [
        "# create vocab including word count\n",
        "counts_a = dict()\n",
        "for w in words:\n",
        "    counts_a[w] = counts_a.get(w,0)+1\n",
        "print(counts_a)\n",
        "print('count : ',len(counts_a))"
      ],
      "metadata": {
        "colab": {
          "base_uri": "https://localhost:8080/"
        },
        "id": "uTpUugXGIinI",
        "outputId": "b0ba06bc-9f8e-4e15-8a53-7d3a615d42d9"
      },
      "execution_count": 6,
      "outputs": [
        {
          "output_type": "stream",
          "name": "stdout",
          "text": [
            "{'red': 1, 'pink': 3, 'blue': 4, 'yellow': 1, 'orange': 1}\n",
            "count :  5\n"
          ]
        }
      ]
    },
    {
      "cell_type": "code",
      "source": [
        "# data\n",
        "word = 'dearz' # 🦌"
      ],
      "metadata": {
        "id": "xh1d-_cmI-9W"
      },
      "execution_count": 8,
      "outputs": []
    },
    {
      "cell_type": "code",
      "source": [
        "# splits with a loop\n",
        "splits_a = []\n",
        "for i in range(len(word)+1):\n",
        "    splits_a.append([word[:i],word[i:]])\n",
        "\n",
        "for i in splits_a:\n",
        "    print(i)"
      ],
      "metadata": {
        "colab": {
          "base_uri": "https://localhost:8080/"
        },
        "id": "M83jHOJaJDFE",
        "outputId": "b971bb94-2b80-4ceb-e1bf-e15e84320a4a"
      },
      "execution_count": 9,
      "outputs": [
        {
          "output_type": "stream",
          "name": "stdout",
          "text": [
            "['', 'dearz']\n",
            "['d', 'earz']\n",
            "['de', 'arz']\n",
            "['dea', 'rz']\n",
            "['dear', 'z']\n",
            "['dearz', '']\n"
          ]
        }
      ]
    },
    {
      "cell_type": "code",
      "source": [
        "# same splits, done using a list comprehension\n",
        "splits_b = [(word[:i], word[i:]) for i in range(len(word) + 1)]\n",
        "\n",
        "for i in splits_b:\n",
        "    print(i)"
      ],
      "metadata": {
        "colab": {
          "base_uri": "https://localhost:8080/"
        },
        "id": "YlF7d92uJKmJ",
        "outputId": "97f15c4e-e6e8-44fd-fd1c-3ee9b707445d"
      },
      "execution_count": 10,
      "outputs": [
        {
          "output_type": "stream",
          "name": "stdout",
          "text": [
            "('', 'dearz')\n",
            "('d', 'earz')\n",
            "('de', 'arz')\n",
            "('dea', 'rz')\n",
            "('dear', 'z')\n",
            "('dearz', '')\n"
          ]
        }
      ]
    },
    {
      "cell_type": "code",
      "source": [
        "# deletes with a loop\n",
        "splits = splits_a\n",
        "deletes = []\n",
        "\n",
        "print('word : ', word)\n",
        "for L,R in splits:\n",
        "    if R:\n",
        "        print(L + R[1:], ' <-- delete ', R[0])"
      ],
      "metadata": {
        "colab": {
          "base_uri": "https://localhost:8080/"
        },
        "id": "5gEka2bJJSrP",
        "outputId": "aa9f02ec-fe80-4a52-b58b-d2a51406da5c"
      },
      "execution_count": 11,
      "outputs": [
        {
          "output_type": "stream",
          "name": "stdout",
          "text": [
            "word :  dearz\n",
            "earz  <-- delete  d\n",
            "darz  <-- delete  e\n",
            "derz  <-- delete  a\n",
            "deaz  <-- delete  r\n",
            "dear  <-- delete  z\n"
          ]
        }
      ]
    },
    {
      "cell_type": "code",
      "source": [
        "# deletes with a list comprehension\n",
        "splits = splits_a\n",
        "deletes = [L + R[1:] for L, R in splits if R]\n",
        "\n",
        "print(deletes)\n",
        "print('*** which is the same as ***')\n",
        "for i in deletes:\n",
        "    print(i)"
      ],
      "metadata": {
        "colab": {
          "base_uri": "https://localhost:8080/"
        },
        "id": "zqkC11aNJoDL",
        "outputId": "5c7c1cc8-6c8c-4849-9eb7-73c7af41a471"
      },
      "execution_count": 12,
      "outputs": [
        {
          "output_type": "stream",
          "name": "stdout",
          "text": [
            "['earz', 'darz', 'derz', 'deaz', 'dear']\n",
            "*** which is the same as ***\n",
            "earz\n",
            "darz\n",
            "derz\n",
            "deaz\n",
            "dear\n"
          ]
        }
      ]
    },
    {
      "cell_type": "code",
      "source": [
        "vocab = ['dean','deer','dear','fries','and','coke']\n",
        "edits = list(deletes)\n",
        "\n",
        "print('vocab : ', vocab)\n",
        "print('edits : ', edits)\n",
        "\n",
        "candidates=[]\n",
        "\n",
        "### START CODE HERE ###\n",
        "candidates = set.intersection(set(vocab),set(edits))  # hint: 'set.intersection'\n",
        "### END CODE HERE ###\n",
        "\n",
        "print('candidate words : ', candidates)"
      ],
      "metadata": {
        "colab": {
          "base_uri": "https://localhost:8080/"
        },
        "id": "DIVW6R_-JoOX",
        "outputId": "ba037fd3-17fe-4e9a-a330-235fc26735c3"
      },
      "execution_count": 13,
      "outputs": [
        {
          "output_type": "stream",
          "name": "stdout",
          "text": [
            "vocab :  ['dean', 'deer', 'dear', 'fries', 'and', 'coke']\n",
            "edits :  ['earz', 'darz', 'derz', 'deaz', 'dear']\n",
            "candidate words :  {'dear'}\n"
          ]
        }
      ]
    }
  ]
}