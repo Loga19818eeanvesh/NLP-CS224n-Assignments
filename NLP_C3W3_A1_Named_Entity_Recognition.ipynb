{
  "nbformat": 4,
  "nbformat_minor": 0,
  "metadata": {
    "colab": {
      "name": "NLP_C3W3_A1_Named Entity Recognition.ipynb",
      "provenance": [],
      "authorship_tag": "ABX9TyO81FXMKrsirorNizDnNwTm",
      "include_colab_link": true
    },
    "kernelspec": {
      "name": "python3",
      "display_name": "Python 3"
    },
    "language_info": {
      "name": "python"
    }
  },
  "cells": [
    {
      "cell_type": "markdown",
      "metadata": {
        "id": "view-in-github",
        "colab_type": "text"
      },
      "source": [
        "<a href=\"https://colab.research.google.com/github/Loga19818eeanvesh/Natural_Language_Processing-Assignments/blob/main/NLP_C3W3_A1_Named_Entity_Recognition.ipynb\" target=\"_parent\"><img src=\"https://colab.research.google.com/assets/colab-badge.svg\" alt=\"Open In Colab\"/></a>"
      ]
    },
    {
      "cell_type": "code",
      "execution_count": 1,
      "metadata": {
        "colab": {
          "base_uri": "https://localhost:8080/",
          "height": 1000
        },
        "id": "huMlJo5I-g2f",
        "outputId": "de375f7e-1392-46e7-85b9-29541b8d6841"
      },
      "outputs": [
        {
          "output_type": "stream",
          "name": "stdout",
          "text": [
            "Collecting numpy\n",
            "  Using cached numpy-1.21.5-cp37-cp37m-manylinux_2_12_x86_64.manylinux2010_x86_64.whl (15.7 MB)\n",
            "Installing collected packages: numpy\n",
            "\u001b[31mERROR: pip's dependency resolver does not currently take into account all the packages that are installed. This behaviour is the source of the following dependency conflicts.\n",
            "yellowbrick 1.3.post1 requires numpy<1.20,>=1.16.0, but you have numpy 1.21.5 which is incompatible.\n",
            "datascience 0.10.6 requires folium==0.2.1, but you have folium 0.8.3 which is incompatible.\n",
            "albumentations 0.1.12 requires imgaug<0.2.7,>=0.2.5, but you have imgaug 0.2.9 which is incompatible.\u001b[0m\n",
            "Successfully installed numpy-1.21.5\n"
          ]
        },
        {
          "output_type": "display_data",
          "data": {
            "application/vnd.colab-display-data+json": {
              "pip_warning": {
                "packages": [
                  "numpy"
                ]
              }
            }
          },
          "metadata": {}
        },
        {
          "output_type": "stream",
          "name": "stdout",
          "text": [
            "Requirement already satisfied: trax in /usr/local/lib/python3.7/dist-packages (1.4.1)\n",
            "Requirement already satisfied: psutil in /usr/local/lib/python3.7/dist-packages (from trax) (5.4.8)\n",
            "Requirement already satisfied: jax in /usr/local/lib/python3.7/dist-packages (from trax) (0.2.25)\n",
            "Requirement already satisfied: numpy in /usr/local/lib/python3.7/dist-packages (from trax) (1.21.5)\n",
            "Requirement already satisfied: absl-py in /usr/local/lib/python3.7/dist-packages (from trax) (1.0.0)\n",
            "Requirement already satisfied: funcsigs in /usr/local/lib/python3.7/dist-packages (from trax) (1.0.2)\n",
            "Requirement already satisfied: matplotlib in /usr/local/lib/python3.7/dist-packages (from trax) (3.2.2)\n",
            "Requirement already satisfied: gin-config in /usr/local/lib/python3.7/dist-packages (from trax) (0.5.0)\n",
            "Requirement already satisfied: tensorflow-text in /usr/local/lib/python3.7/dist-packages (from trax) (2.8.1)\n",
            "Requirement already satisfied: jaxlib in /usr/local/lib/python3.7/dist-packages (from trax) (0.1.71+cuda111)\n",
            "Requirement already satisfied: six in /usr/local/lib/python3.7/dist-packages (from trax) (1.15.0)\n",
            "Requirement already satisfied: tensorflow-datasets in /usr/local/lib/python3.7/dist-packages (from trax) (4.0.1)\n",
            "Requirement already satisfied: gym in /usr/local/lib/python3.7/dist-packages (from trax) (0.17.3)\n",
            "Requirement already satisfied: scipy in /usr/local/lib/python3.7/dist-packages (from trax) (1.4.1)\n",
            "Requirement already satisfied: pyglet<=1.5.0,>=1.4.0 in /usr/local/lib/python3.7/dist-packages (from gym->trax) (1.5.0)\n",
            "Requirement already satisfied: cloudpickle<1.7.0,>=1.2.0 in /usr/local/lib/python3.7/dist-packages (from gym->trax) (1.3.0)\n",
            "Requirement already satisfied: future in /usr/local/lib/python3.7/dist-packages (from pyglet<=1.5.0,>=1.4.0->gym->trax) (0.16.0)\n",
            "Requirement already satisfied: typing-extensions in /usr/local/lib/python3.7/dist-packages (from jax->trax) (3.10.0.2)\n",
            "Requirement already satisfied: opt-einsum in /usr/local/lib/python3.7/dist-packages (from jax->trax) (3.3.0)\n",
            "Requirement already satisfied: flatbuffers<3.0,>=1.12 in /usr/local/lib/python3.7/dist-packages (from jaxlib->trax) (2.0)\n",
            "Requirement already satisfied: python-dateutil>=2.1 in /usr/local/lib/python3.7/dist-packages (from matplotlib->trax) (2.8.2)\n",
            "Requirement already satisfied: cycler>=0.10 in /usr/local/lib/python3.7/dist-packages (from matplotlib->trax) (0.11.0)\n",
            "Requirement already satisfied: kiwisolver>=1.0.1 in /usr/local/lib/python3.7/dist-packages (from matplotlib->trax) (1.3.2)\n",
            "Requirement already satisfied: pyparsing!=2.0.4,!=2.1.2,!=2.1.6,>=2.0.1 in /usr/local/lib/python3.7/dist-packages (from matplotlib->trax) (3.0.7)\n",
            "Requirement already satisfied: tqdm in /usr/local/lib/python3.7/dist-packages (from tensorflow-datasets->trax) (4.62.3)\n",
            "Requirement already satisfied: attrs>=18.1.0 in /usr/local/lib/python3.7/dist-packages (from tensorflow-datasets->trax) (21.4.0)\n",
            "Requirement already satisfied: dm-tree in /usr/local/lib/python3.7/dist-packages (from tensorflow-datasets->trax) (0.1.6)\n",
            "Requirement already satisfied: requests>=2.19.0 in /usr/local/lib/python3.7/dist-packages (from tensorflow-datasets->trax) (2.23.0)\n",
            "Requirement already satisfied: termcolor in /usr/local/lib/python3.7/dist-packages (from tensorflow-datasets->trax) (1.1.0)\n",
            "Requirement already satisfied: promise in /usr/local/lib/python3.7/dist-packages (from tensorflow-datasets->trax) (2.3)\n",
            "Requirement already satisfied: protobuf>=3.6.1 in /usr/local/lib/python3.7/dist-packages (from tensorflow-datasets->trax) (3.17.3)\n",
            "Requirement already satisfied: tensorflow-metadata in /usr/local/lib/python3.7/dist-packages (from tensorflow-datasets->trax) (1.6.0)\n",
            "Requirement already satisfied: importlib-resources in /usr/local/lib/python3.7/dist-packages (from tensorflow-datasets->trax) (5.4.0)\n",
            "Requirement already satisfied: dill in /usr/local/lib/python3.7/dist-packages (from tensorflow-datasets->trax) (0.3.4)\n",
            "Requirement already satisfied: urllib3!=1.25.0,!=1.25.1,<1.26,>=1.21.1 in /usr/local/lib/python3.7/dist-packages (from requests>=2.19.0->tensorflow-datasets->trax) (1.24.3)\n",
            "Requirement already satisfied: chardet<4,>=3.0.2 in /usr/local/lib/python3.7/dist-packages (from requests>=2.19.0->tensorflow-datasets->trax) (3.0.4)\n",
            "Requirement already satisfied: idna<3,>=2.5 in /usr/local/lib/python3.7/dist-packages (from requests>=2.19.0->tensorflow-datasets->trax) (2.10)\n",
            "Requirement already satisfied: certifi>=2017.4.17 in /usr/local/lib/python3.7/dist-packages (from requests>=2.19.0->tensorflow-datasets->trax) (2021.10.8)\n",
            "Requirement already satisfied: zipp>=3.1.0 in /usr/local/lib/python3.7/dist-packages (from importlib-resources->tensorflow-datasets->trax) (3.7.0)\n",
            "Requirement already satisfied: googleapis-common-protos<2,>=1.52.0 in /usr/local/lib/python3.7/dist-packages (from tensorflow-metadata->tensorflow-datasets->trax) (1.54.0)\n",
            "Requirement already satisfied: tensorflow-hub>=0.8.0 in /usr/local/lib/python3.7/dist-packages (from tensorflow-text->trax) (0.12.0)\n",
            "Requirement already satisfied: tensorflow<2.9,>=2.8.0 in /usr/local/lib/python3.7/dist-packages (from tensorflow-text->trax) (2.8.0)\n",
            "Requirement already satisfied: h5py>=2.9.0 in /usr/local/lib/python3.7/dist-packages (from tensorflow<2.9,>=2.8.0->tensorflow-text->trax) (3.1.0)\n",
            "Requirement already satisfied: gast>=0.2.1 in /usr/local/lib/python3.7/dist-packages (from tensorflow<2.9,>=2.8.0->tensorflow-text->trax) (0.4.0)\n",
            "Requirement already satisfied: keras-preprocessing>=1.1.1 in /usr/local/lib/python3.7/dist-packages (from tensorflow<2.9,>=2.8.0->tensorflow-text->trax) (1.1.2)\n",
            "Requirement already satisfied: tensorboard<2.9,>=2.8 in /usr/local/lib/python3.7/dist-packages (from tensorflow<2.9,>=2.8.0->tensorflow-text->trax) (2.8.0)\n",
            "Requirement already satisfied: keras<2.9,>=2.8.0rc0 in /usr/local/lib/python3.7/dist-packages (from tensorflow<2.9,>=2.8.0->tensorflow-text->trax) (2.8.0)\n",
            "Requirement already satisfied: grpcio<2.0,>=1.24.3 in /usr/local/lib/python3.7/dist-packages (from tensorflow<2.9,>=2.8.0->tensorflow-text->trax) (1.43.0)\n",
            "Requirement already satisfied: tf-estimator-nightly==2.8.0.dev2021122109 in /usr/local/lib/python3.7/dist-packages (from tensorflow<2.9,>=2.8.0->tensorflow-text->trax) (2.8.0.dev2021122109)\n",
            "Requirement already satisfied: tensorflow-io-gcs-filesystem>=0.23.1 in /usr/local/lib/python3.7/dist-packages (from tensorflow<2.9,>=2.8.0->tensorflow-text->trax) (0.23.1)\n",
            "Requirement already satisfied: google-pasta>=0.1.1 in /usr/local/lib/python3.7/dist-packages (from tensorflow<2.9,>=2.8.0->tensorflow-text->trax) (0.2.0)\n",
            "Requirement already satisfied: astunparse>=1.6.0 in /usr/local/lib/python3.7/dist-packages (from tensorflow<2.9,>=2.8.0->tensorflow-text->trax) (1.6.3)\n",
            "Requirement already satisfied: wrapt>=1.11.0 in /usr/local/lib/python3.7/dist-packages (from tensorflow<2.9,>=2.8.0->tensorflow-text->trax) (1.13.3)\n",
            "Requirement already satisfied: libclang>=9.0.1 in /usr/local/lib/python3.7/dist-packages (from tensorflow<2.9,>=2.8.0->tensorflow-text->trax) (13.0.0)\n",
            "Requirement already satisfied: setuptools in /usr/local/lib/python3.7/dist-packages (from tensorflow<2.9,>=2.8.0->tensorflow-text->trax) (57.4.0)\n",
            "Requirement already satisfied: wheel<1.0,>=0.23.0 in /usr/local/lib/python3.7/dist-packages (from astunparse>=1.6.0->tensorflow<2.9,>=2.8.0->tensorflow-text->trax) (0.37.1)\n",
            "Requirement already satisfied: cached-property in /usr/local/lib/python3.7/dist-packages (from h5py>=2.9.0->tensorflow<2.9,>=2.8.0->tensorflow-text->trax) (1.5.2)\n",
            "Requirement already satisfied: markdown>=2.6.8 in /usr/local/lib/python3.7/dist-packages (from tensorboard<2.9,>=2.8->tensorflow<2.9,>=2.8.0->tensorflow-text->trax) (3.3.6)\n",
            "Requirement already satisfied: tensorboard-data-server<0.7.0,>=0.6.0 in /usr/local/lib/python3.7/dist-packages (from tensorboard<2.9,>=2.8->tensorflow<2.9,>=2.8.0->tensorflow-text->trax) (0.6.1)\n",
            "Requirement already satisfied: google-auth<3,>=1.6.3 in /usr/local/lib/python3.7/dist-packages (from tensorboard<2.9,>=2.8->tensorflow<2.9,>=2.8.0->tensorflow-text->trax) (1.35.0)\n",
            "Requirement already satisfied: werkzeug>=0.11.15 in /usr/local/lib/python3.7/dist-packages (from tensorboard<2.9,>=2.8->tensorflow<2.9,>=2.8.0->tensorflow-text->trax) (1.0.1)\n",
            "Requirement already satisfied: google-auth-oauthlib<0.5,>=0.4.1 in /usr/local/lib/python3.7/dist-packages (from tensorboard<2.9,>=2.8->tensorflow<2.9,>=2.8.0->tensorflow-text->trax) (0.4.6)\n",
            "Requirement already satisfied: tensorboard-plugin-wit>=1.6.0 in /usr/local/lib/python3.7/dist-packages (from tensorboard<2.9,>=2.8->tensorflow<2.9,>=2.8.0->tensorflow-text->trax) (1.8.1)\n",
            "Requirement already satisfied: rsa<5,>=3.1.4 in /usr/local/lib/python3.7/dist-packages (from google-auth<3,>=1.6.3->tensorboard<2.9,>=2.8->tensorflow<2.9,>=2.8.0->tensorflow-text->trax) (4.8)\n",
            "Requirement already satisfied: cachetools<5.0,>=2.0.0 in /usr/local/lib/python3.7/dist-packages (from google-auth<3,>=1.6.3->tensorboard<2.9,>=2.8->tensorflow<2.9,>=2.8.0->tensorflow-text->trax) (4.2.4)\n",
            "Requirement already satisfied: pyasn1-modules>=0.2.1 in /usr/local/lib/python3.7/dist-packages (from google-auth<3,>=1.6.3->tensorboard<2.9,>=2.8->tensorflow<2.9,>=2.8.0->tensorflow-text->trax) (0.2.8)\n",
            "Requirement already satisfied: requests-oauthlib>=0.7.0 in /usr/local/lib/python3.7/dist-packages (from google-auth-oauthlib<0.5,>=0.4.1->tensorboard<2.9,>=2.8->tensorflow<2.9,>=2.8.0->tensorflow-text->trax) (1.3.1)\n",
            "Requirement already satisfied: importlib-metadata>=4.4 in /usr/local/lib/python3.7/dist-packages (from markdown>=2.6.8->tensorboard<2.9,>=2.8->tensorflow<2.9,>=2.8.0->tensorflow-text->trax) (4.10.1)\n",
            "Requirement already satisfied: pyasn1<0.5.0,>=0.4.6 in /usr/local/lib/python3.7/dist-packages (from pyasn1-modules>=0.2.1->google-auth<3,>=1.6.3->tensorboard<2.9,>=2.8->tensorflow<2.9,>=2.8.0->tensorflow-text->trax) (0.4.8)\n",
            "Requirement already satisfied: oauthlib>=3.0.0 in /usr/local/lib/python3.7/dist-packages (from requests-oauthlib>=0.7.0->google-auth-oauthlib<0.5,>=0.4.1->tensorboard<2.9,>=2.8->tensorflow<2.9,>=2.8.0->tensorflow-text->trax) (3.2.0)\n"
          ]
        }
      ],
      "source": [
        "!pip install numpy --upgrade --ignore-installed\n",
        "!pip install trax --upgrade\n",
        "import trax"
      ]
    },
    {
      "cell_type": "code",
      "source": [
        "import trax \n",
        "from trax import layers as tl\n",
        "import os \n",
        "import numpy as np\n",
        "import pandas as pd\n",
        "import random as rnd\n",
        "\n",
        "# set random seeds to make this notebook easier to replicate\n",
        "#trax.supervised.trainer_lib.init_random_number_generators(33)"
      ],
      "metadata": {
        "id": "Gk58oYEfUc8f"
      },
      "execution_count": 3,
      "outputs": []
    },
    {
      "cell_type": "code",
      "source": [
        "#/data.zip\n",
        "\n",
        "import zipfile\n",
        "\n",
        "local_zip = '/data.zip'\n",
        "zip_ref   = zipfile.ZipFile(local_zip, 'r')\n",
        "zip_ref.extractall('/root/Data')\n",
        "zip_ref.close()"
      ],
      "metadata": {
        "id": "c0GnAiEaW_ar"
      },
      "execution_count": 9,
      "outputs": []
    },
    {
      "cell_type": "code",
      "source": [
        "# display original kaggle data\n",
        "data = pd.read_csv(\"/ner_dataset.csv\", encoding = \"ISO-8859-1\") \n",
        "train_sents = open('/root/Data/data/small/train/sentences.txt', 'r').readline()\n",
        "train_labels = open('/root/Data/data/small/train/labels.txt', 'r').readline()\n",
        "print('SENTENCE:', train_sents)\n",
        "print('SENTENCE LABEL:', train_labels)\n",
        "print('ORIGINAL DATA:\\n', data.head(5))\n",
        "del(data, train_sents, train_labels)"
      ],
      "metadata": {
        "colab": {
          "base_uri": "https://localhost:8080/"
        },
        "id": "rJiqX_01VsWW",
        "outputId": "8a6b274d-4cf1-4378-d1be-626fcd6be15f"
      },
      "execution_count": 11,
      "outputs": [
        {
          "output_type": "stream",
          "name": "stdout",
          "text": [
            "SENTENCE: Thousands of demonstrators have marched through London to protest the war in Iraq and demand the withdrawal of British troops from that country .\n",
            "\n",
            "SENTENCE LABEL: O O O O O O B-geo O O O O O B-geo O O O O O B-gpe O O O O O\n",
            "\n",
            "ORIGINAL DATA:\n",
            "     Sentence #           Word  POS Tag\n",
            "0  Sentence: 1      Thousands  NNS   O\n",
            "1          NaN             of   IN   O\n",
            "2          NaN  demonstrators  NNS   O\n",
            "3          NaN           have  VBP   O\n",
            "4          NaN        marched  VBN   O\n"
          ]
        }
      ]
    },
    {
      "cell_type": "code",
      "source": [
        "def get_vocab(vocab_path, tags_path):\n",
        "    vocab = {}\n",
        "    with open(vocab_path) as f:\n",
        "        for i, l in enumerate(f.read().splitlines()):\n",
        "            vocab[l] = i  # to avoid the 0\n",
        "        # loading tags (we require this to map tags to their indices)\n",
        "    vocab['<PAD>'] = len(vocab) # 35180\n",
        "    tag_map = {}\n",
        "    with open(tags_path) as f:\n",
        "        for i, t in enumerate(f.read().splitlines()):\n",
        "            tag_map[t] = i \n",
        "    \n",
        "    return vocab, tag_map\n",
        "\n",
        "def get_params(vocab, tag_map, sentences_file, labels_file):\n",
        "    sentences = []\n",
        "    labels = []\n",
        "\n",
        "    with open(sentences_file) as f:\n",
        "        for sentence in f.read().splitlines():\n",
        "            # replace each token by its index if it is in vocab\n",
        "            # else use index of UNK_WORD\n",
        "            s = [vocab[token] if token in vocab \n",
        "                 else vocab['UNK']\n",
        "                 for token in sentence.split(' ')]\n",
        "            sentences.append(s)\n",
        "\n",
        "    with open(labels_file) as f:\n",
        "        for sentence in f.read().splitlines():\n",
        "            # replace each label by its index\n",
        "            l = [tag_map[label] for label in sentence.split(' ')] # I added plus 1 here\n",
        "            labels.append(l) \n",
        "    return sentences, labels, len(sentences)"
      ],
      "metadata": {
        "id": "1Vlt_vpTYzHB"
      },
      "execution_count": 12,
      "outputs": []
    },
    {
      "cell_type": "code",
      "source": [
        "vocab, tag_map = get_vocab('/root/Data/data/large/words.txt', '/root/Data/data/large/tags.txt')\n",
        "t_sentences, t_labels, t_size = get_params(vocab, tag_map, '/root/Data/data/large/train/sentences.txt', '/root/Data/data/large/train/labels.txt')\n",
        "v_sentences, v_labels, v_size = get_params(vocab, tag_map, '/root/Data/data/large/val/sentences.txt', '/root/Data/data/large/val/labels.txt')\n",
        "test_sentences, test_labels, test_size = get_params(vocab, tag_map, '/root/Data/data/large/test/sentences.txt', '/root/Data/data/large/test/labels.txt')"
      ],
      "metadata": {
        "id": "yW2nA5y0Y0gS"
      },
      "execution_count": 14,
      "outputs": []
    },
    {
      "cell_type": "code",
      "source": [
        "# vocab translates from a word to a unique number\n",
        "print('vocab[\"the\"]:', vocab[\"the\"])\n",
        "# Pad token\n",
        "print('padded token:', vocab['<PAD>'])"
      ],
      "metadata": {
        "colab": {
          "base_uri": "https://localhost:8080/"
        },
        "id": "pOI-H7osbBvd",
        "outputId": "61743549-62f3-486b-c500-09eae1be1acf"
      },
      "execution_count": 15,
      "outputs": [
        {
          "output_type": "stream",
          "name": "stdout",
          "text": [
            "vocab[\"the\"]: 9\n",
            "padded token: 35180\n"
          ]
        }
      ]
    },
    {
      "cell_type": "code",
      "source": [
        "print(tag_map)"
      ],
      "metadata": {
        "colab": {
          "base_uri": "https://localhost:8080/"
        },
        "id": "ARgzXqKtbPmr",
        "outputId": "c68df5f0-4090-4581-de9c-70c3a1ba2cdb"
      },
      "execution_count": 16,
      "outputs": [
        {
          "output_type": "stream",
          "name": "stdout",
          "text": [
            "{'O': 0, 'B-geo': 1, 'B-gpe': 2, 'B-per': 3, 'I-geo': 4, 'B-org': 5, 'I-org': 6, 'B-tim': 7, 'B-art': 8, 'I-art': 9, 'I-per': 10, 'I-gpe': 11, 'I-tim': 12, 'B-nat': 13, 'B-eve': 14, 'I-eve': 15, 'I-nat': 16}\n"
          ]
        }
      ]
    },
    {
      "cell_type": "code",
      "source": [
        "# Exploring information about the data\n",
        "print('The number of outputs is tag_map', len(tag_map))\n",
        "# The number of vocabulary tokens (including <PAD>)\n",
        "g_vocab_size = len(vocab)\n",
        "print(f\"Num of vocabulary words: {g_vocab_size}\")\n",
        "print('The vocab size is', len(vocab))\n",
        "print('The training size is', t_size)\n",
        "print('The validation size is', v_size)\n",
        "print('An example of the first sentence is', t_sentences[0])\n",
        "print('An example of its corresponding label is', t_labels[0])\n"
      ],
      "metadata": {
        "colab": {
          "base_uri": "https://localhost:8080/"
        },
        "id": "2XpSeMtdbjPb",
        "outputId": "517b06d7-2b7d-447e-ba5c-0d697b17f40a"
      },
      "execution_count": 17,
      "outputs": [
        {
          "output_type": "stream",
          "name": "stdout",
          "text": [
            "The number of outputs is tag_map 17\n",
            "Num of vocabulary words: 35181\n",
            "The vocab size is 35181\n",
            "The training size is 33570\n",
            "The validation size is 7194\n",
            "An example of the first sentence is [0, 1, 2, 3, 4, 5, 6, 7, 8, 9, 10, 11, 12, 13, 14, 9, 15, 1, 16, 17, 18, 19, 20, 21]\n",
            "An example of its corresponding label is [0, 0, 0, 0, 0, 0, 1, 0, 0, 0, 0, 0, 1, 0, 0, 0, 0, 0, 2, 0, 0, 0, 0, 0]\n"
          ]
        }
      ]
    },
    {
      "cell_type": "code",
      "source": [
        "# UNQ_C1 (UNIQUE CELL IDENTIFIER, DO NOT EDIT)\n",
        "# GRADED FUNCTION: data_generator\n",
        "def data_generator(batch_size, x, y, pad, shuffle=False, verbose=False):\n",
        "    '''\n",
        "      Input: \n",
        "        batch_size - integer describing the batch size\n",
        "        x - list containing sentences where words are represented as integers\n",
        "        y - list containing tags associated with the sentences\n",
        "        shuffle - Shuffle the data order\n",
        "        pad - an integer representing a pad character\n",
        "        verbose - Print information during runtime\n",
        "      Output:\n",
        "        a tuple containing 2 elements:\n",
        "        X - np.ndarray of dim (batch_size, max_len) of padded sentences\n",
        "        Y - np.ndarray of dim (batch_size, max_len) of tags associated with the sentences in X\n",
        "    '''\n",
        "    \n",
        "    # count the number of lines in data_lines\n",
        "    num_lines = len(x)\n",
        "    \n",
        "    # create an array with the indexes of data_lines that can be shuffled\n",
        "    lines_index = [*range(num_lines)]\n",
        "    \n",
        "    # shuffle the indexes if shuffle is set to True\n",
        "    if shuffle:\n",
        "        rnd.shuffle(lines_index)\n",
        "    \n",
        "    index = 0 # tracks current location in x, y\n",
        "    while True:\n",
        "        buffer_x = [0] * batch_size # Temporal array to store the raw x data for this batch\n",
        "        buffer_y = [0] * batch_size # Temporal array to store the raw y data for this batch\n",
        "\n",
        "    ### START CODE HERE (Replace instances of 'None' with your code) ###\n",
        "        \n",
        "        # Copy into the temporal buffers the sentences in x[index : index + batch_size] \n",
        "        # along with their corresponding labels y[index : index + batch_size]\n",
        "        # Find maximum length of sentences in x[index : index + batch_size] for this batch. \n",
        "        # Reset the index if we reach the end of the data set, and shuffle the indexes if needed.\n",
        "        max_len = 0\n",
        "        for i in range(batch_size):\n",
        "             # if the index is greater than or equal to the number of lines in x\n",
        "            if index >= num_lines:\n",
        "                # then reset the index to 0\n",
        "                index = 0\n",
        "                # re-shuffle the indexes if shuffle is set to True\n",
        "                if shuffle:\n",
        "                    rnd.shuffle(lines_index)\n",
        "            \n",
        "            # The current position is obtained using `lines_index[index]`\n",
        "            # Store the x value at the current position into the buffer_x\n",
        "            buffer_x[i] = x[lines_index[index]]\n",
        "            \n",
        "            # Store the y value at the current position into the buffer_y\n",
        "            buffer_y[i] = y[lines_index[index]]\n",
        "            \n",
        "            lenx = len(x[lines_index[index]])    #length of current x[]\n",
        "            if lenx > max_len:\n",
        "                max_len = lenx                   #max_len tracks longest x[]\n",
        "            \n",
        "            # increment index by one\n",
        "            index += 1\n",
        "\n",
        "        # create X,Y, NumPy arrays of size (batch_size, max_len) 'full' of pad value\n",
        "        X = np.full((batch_size, max_len), pad)\n",
        "        Y = np.full((batch_size, max_len), pad)\n",
        "\n",
        "        # copy values from lists to NumPy arrays. Use the buffered values\n",
        "        for i in range(batch_size):\n",
        "            # get the example (sentence as a tensor)\n",
        "            # in `buffer_x` at the `i` index\n",
        "            x_i = buffer_x[i]\n",
        "            \n",
        "            # similarly, get the example's labels\n",
        "            # in `buffer_y` at the `i` index\n",
        "            y_i = buffer_y[i]\n",
        "            \n",
        "            # Walk through each word in x_i\n",
        "            for j in range(len(x_i)):\n",
        "                # store the word in x_i at position j into X\n",
        "                X[i, j] = x_i[j]\n",
        "                \n",
        "                # store the label in y_i at position j into Y\n",
        "                Y[i, j] = y_i[j]\n",
        "\n",
        "    ### END CODE HERE ###\n",
        "        if verbose: print(\"index=\", index)\n",
        "        yield((X,Y))"
      ],
      "metadata": {
        "id": "gnGakzcYdSni"
      },
      "execution_count": 18,
      "outputs": []
    },
    {
      "cell_type": "code",
      "source": [
        "batch_size = 5\n",
        "mini_sentences = t_sentences[0: 8]\n",
        "mini_labels = t_labels[0: 8]\n",
        "dg = data_generator(batch_size, mini_sentences, mini_labels, vocab[\"<PAD>\"], shuffle=False, verbose=True)\n",
        "X1, Y1 = next(dg)\n",
        "X2, Y2 = next(dg)\n",
        "print(Y1.shape, X1.shape, Y2.shape, X2.shape)\n",
        "print(X1[0][:], \"\\n\", Y1[0][:])\n",
        "print(X1)\n",
        "print(Y1)"
      ],
      "metadata": {
        "colab": {
          "base_uri": "https://localhost:8080/"
        },
        "id": "nmWzAzgqdmgr",
        "outputId": "ef75a738-6f17-4a42-9c8a-9e92ebcb02a1"
      },
      "execution_count": 21,
      "outputs": [
        {
          "output_type": "stream",
          "name": "stdout",
          "text": [
            "index= 5\n",
            "index= 2\n",
            "(5, 30) (5, 30) (5, 30) (5, 30)\n",
            "[    0     1     2     3     4     5     6     7     8     9    10    11\n",
            "    12    13    14     9    15     1    16    17    18    19    20    21\n",
            " 35180 35180 35180 35180 35180 35180] \n",
            " [    0     0     0     0     0     0     1     0     0     0     0     0\n",
            "     1     0     0     0     0     0     2     0     0     0     0     0\n",
            " 35180 35180 35180 35180 35180 35180]\n",
            "[[    0     1     2     3     4     5     6     7     8     9    10    11\n",
            "     12    13    14     9    15     1    16    17    18    19    20    21\n",
            "  35180 35180 35180 35180 35180 35180]\n",
            " [   22     1    23    24    11     9    25    26     9    27    28    29\n",
            "     30    31    32    33    34    35    36    37    38    39    35    13\n",
            "     35    40     9    41    21    35]\n",
            " [   42     4    18     9    43     1    44     7    45    46    11    47\n",
            "     48    21 35180 35180 35180 35180 35180 35180 35180 35180 35180 35180\n",
            "  35180 35180 35180 35180 35180 35180]\n",
            " [   49    50     9    51     1    52    53    54    55    56    57    58\n",
            "     59    60    21 35180 35180 35180 35180 35180 35180 35180 35180 35180\n",
            "  35180 35180 35180 35180 35180 35180]\n",
            " [   61     8    62    63     9    64     1     9    65    66     1    67\n",
            "     68    69    70    71    11     9    72    73    74    75     1    76\n",
            "     21 35180 35180 35180 35180 35180]]\n",
            "[[    0     0     0     0     0     0     1     0     0     0     0     0\n",
            "      1     0     0     0     0     0     2     0     0     0     0     0\n",
            "  35180 35180 35180 35180 35180 35180]\n",
            " [    0     0     0     0     0     0     0     0     0     0     0     0\n",
            "      0     0     0     0     0     0     3     0     0     0     0     0\n",
            "      0     0     0     0     0     0]\n",
            " [    0     0     0     0     0     0     0     0     0     0     0     1\n",
            "      4     0 35180 35180 35180 35180 35180 35180 35180 35180 35180 35180\n",
            "  35180 35180 35180 35180 35180 35180]\n",
            " [    0     0     0     0     0     0     0     0     0     0     0     0\n",
            "      0     0     0 35180 35180 35180 35180 35180 35180 35180 35180 35180\n",
            "  35180 35180 35180 35180 35180 35180]\n",
            " [    0     0     0     0     0     0     0     0     0     0     0     1\n",
            "      0     0     5     6     0     0     0     2     0     0     0     1\n",
            "      0 35180 35180 35180 35180 35180]]\n"
          ]
        }
      ]
    },
    {
      "cell_type": "code",
      "source": [
        "# UNQ_C2 (UNIQUE CELL IDENTIFIER, DO NOT EDIT)\n",
        "# GRADED FUNCTION: NER\n",
        "def NER(vocab_size=35181, d_model=50, tags=tag_map):\n",
        "    '''\n",
        "      Input: \n",
        "        vocab_size - integer containing the size of the vocabulary\n",
        "        d_model - integer describing the embedding size\n",
        "      Output:\n",
        "        model - a trax serial model\n",
        "    '''\n",
        "    ### START CODE HERE (Replace instances of 'None' with your code) ###\n",
        "    model = tl.Serial(\n",
        "      tl.Embedding(vocab_size, d_model), # Embedding layer\n",
        "      tl.LSTM(d_model), # LSTM layer\n",
        "      tl.Dense(len(tags)), # Dense layer with len(tags) units\n",
        "      tl.LogSoftmax()  # LogSoftmax layer\n",
        "      )\n",
        "      ### END CODE HERE ###\n",
        "    return model"
      ],
      "metadata": {
        "id": "-VMAE7GchM-p"
      },
      "execution_count": 22,
      "outputs": []
    },
    {
      "cell_type": "code",
      "source": [
        "# initializing your model\n",
        "model = NER()\n",
        "# display your model\n",
        "print(model)"
      ],
      "metadata": {
        "colab": {
          "base_uri": "https://localhost:8080/"
        },
        "id": "ncyAohb6hl9B",
        "outputId": "6c2ae698-8008-45c9-b7e6-846ea09613b0"
      },
      "execution_count": 23,
      "outputs": [
        {
          "output_type": "stream",
          "name": "stdout",
          "text": [
            "Serial[\n",
            "  Embedding_35181_50\n",
            "  LSTM_50\n",
            "  Dense_17\n",
            "  LogSoftmax\n",
            "]\n"
          ]
        }
      ]
    },
    {
      "cell_type": "code",
      "source": [
        "from trax.supervised import training\n",
        "\n",
        "rnd.seed(33)\n",
        "\n",
        "batch_size = 64\n",
        "\n",
        "# Create training data, mask pad id=35180 for training.\n",
        "train_generator = trax.data.inputs.add_loss_weights(\n",
        "    data_generator(batch_size, t_sentences, t_labels, vocab['<PAD>'], True),\n",
        "    id_to_mask=vocab['<PAD>'])\n",
        "\n",
        "# Create validation data, mask pad id=35180 for training.\n",
        "eval_generator = trax.data.inputs.add_loss_weights(\n",
        "    data_generator(batch_size, v_sentences, v_labels, vocab['<PAD>'], True),\n",
        "    id_to_mask=vocab['<PAD>'])"
      ],
      "metadata": {
        "id": "bGr2-7m_h1mq"
      },
      "execution_count": 28,
      "outputs": []
    },
    {
      "cell_type": "code",
      "source": [
        "# UNQ_C3 (UNIQUE CELL IDENTIFIER, DO NOT EDIT)\n",
        "# GRADED FUNCTION: train_model\n",
        "def train_model(NER, train_generator, eval_generator, train_steps=1, output_dir='model'):\n",
        "    '''\n",
        "    Input: \n",
        "        NER - the model you are building\n",
        "        train_generator - The data generator for training examples\n",
        "        eval_generator - The data generator for validation examples,\n",
        "        train_steps - number of training steps\n",
        "        output_dir - folder to save your model\n",
        "    Output:\n",
        "        training_loop - a trax supervised training Loop\n",
        "    '''\n",
        "    ### START CODE HERE (Replace instances of 'None' with your code) ###\n",
        "    train_task = training.TrainTask(\n",
        "      train_generator, # A train data generator\n",
        "      loss_layer = tl.CrossEntropyLoss(), # A cross-entropy loss function\n",
        "      optimizer = trax.optimizers.Adam(0.01),  # The adam optimizer\n",
        "    )\n",
        "\n",
        "    eval_task = training.EvalTask(\n",
        "      labeled_data = eval_generator, # A labeled data generator\n",
        "      metrics = [tl.CrossEntropyLoss(), tl.Accuracy()], # Evaluate with cross-entropy loss and accuracy\n",
        "      n_eval_batches = 10  # Number of batches to use on each evaluation\n",
        "    )\n",
        "\n",
        "    training_loop = training.Loop(\n",
        "        NER, # A model to train\n",
        "        train_task, # A train task\n",
        "        eval_tasks = eval_task, # The evaluation task\n",
        "        output_dir = output_dir) # The output directory\n",
        "\n",
        "    # Train with train_steps\n",
        "    training_loop.run(n_steps = train_steps)\n",
        "    ### END CODE HERE ###\n",
        "    return training_loop"
      ],
      "metadata": {
        "id": "K9yACzdXh9QD"
      },
      "execution_count": 31,
      "outputs": []
    },
    {
      "cell_type": "code",
      "source": [
        "train_steps = 100            # In coursera we can only train 100 steps\n",
        "!rm -f 'model/model.pkl.gz'  # Remove old model.pkl if it exists\n",
        "\n",
        "# Train the model\n",
        "training_loop = train_model(NER(), train_generator, eval_generator, train_steps)"
      ],
      "metadata": {
        "colab": {
          "base_uri": "https://localhost:8080/"
        },
        "id": "tS1RuBJah_sE",
        "outputId": "a49838a4-f2f6-4c3c-f198-aac950a115d9"
      },
      "execution_count": 32,
      "outputs": [
        {
          "output_type": "stream",
          "name": "stderr",
          "text": [
            "/usr/local/lib/python3.7/dist-packages/jax/_src/lib/xla_bridge.py:413: UserWarning: jax.host_count has been renamed to jax.process_count. This alias will eventually be removed; please update your code.\n",
            "  \"jax.host_count has been renamed to jax.process_count. This alias \"\n"
          ]
        },
        {
          "output_type": "stream",
          "name": "stdout",
          "text": [
            "\n",
            "Step      1: Total number of trainable weights: 1780117\n",
            "Step      1: Ran 1 train steps in 3.58 secs\n",
            "Step      1: train CrossEntropyLoss |  3.82739186\n",
            "Step      1: eval  CrossEntropyLoss |  2.84493678\n",
            "Step      1: eval          Accuracy |  0.01665959\n",
            "\n",
            "Step    100: Ran 99 train steps in 72.70 secs\n",
            "Step    100: train CrossEntropyLoss |  0.57797021\n",
            "Step    100: eval  CrossEntropyLoss |  0.27023588\n",
            "Step    100: eval          Accuracy |  0.93168518\n"
          ]
        }
      ]
    },
    {
      "cell_type": "code",
      "source": [
        "# loading in a pretrained model..\n",
        "model = NER()\n",
        "model.init(trax.shapes.ShapeDtype((1, 1), dtype=np.int32))\n",
        "\n",
        "# Load the pretrained model\n",
        "model.init_from_file('/model.pkl.gz', weights_only=True)"
      ],
      "metadata": {
        "colab": {
          "base_uri": "https://localhost:8080/"
        },
        "id": "DleY6-gril2W",
        "outputId": "19c1ee02-ce6c-4d40-ce6b-f41c2e676b2a"
      },
      "execution_count": 40,
      "outputs": [
        {
          "output_type": "execute_result",
          "data": {
            "text/plain": [
              "((array([[ 0.81504697,  0.41156578, -0.39470178, ...,  1.8432791 ,\n",
              "           0.20336688, -1.5193548 ],\n",
              "         [-0.8170589 , -0.6749423 ,  0.7024649 , ...,  0.765976  ,\n",
              "          -0.32910004,  0.3397966 ],\n",
              "         [ 1.8445145 , -1.1847575 ,  0.44616678, ..., -1.3649443 ,\n",
              "          -0.26146498, -1.0452443 ],\n",
              "         ...,\n",
              "         [-0.47112465,  0.39385355,  0.8544945 , ...,  0.8979616 ,\n",
              "          -0.4146749 ,  0.46532995],\n",
              "         [ 0.06438114,  0.40173107, -0.81699884, ..., -0.26729876,\n",
              "           0.06683028, -1.8318921 ],\n",
              "         [ 1.490085  ,  0.25960454,  0.57180226, ..., -0.8960343 ,\n",
              "           1.4659392 ,  0.51151174]], dtype=float32),\n",
              "  (((), ((), ())),\n",
              "   ((array([[ 1.8205246e-02,  4.5587063e-02,  2.3308586e-01, ...,\n",
              "              3.2658550e-01,  4.4989395e-01,  1.3649037e-01],\n",
              "            [ 3.4135941e-02,  3.6623224e-04, -2.0645858e-01, ...,\n",
              "             -3.7373897e-02,  1.3227654e-01,  3.6544618e-01],\n",
              "            [ 2.4287397e-01, -4.1946974e-02,  2.5109309e-01, ...,\n",
              "              3.0652905e-01,  1.8023208e-01, -4.4977060e-01],\n",
              "            ...,\n",
              "            [-3.8651712e-02, -1.4279284e-01,  7.6946914e-02, ...,\n",
              "              4.3700095e-02, -6.8984614e-03,  2.3343280e-02],\n",
              "            [ 4.4559538e-03, -4.5776283e-03, -2.5545111e-01, ...,\n",
              "             -1.9839586e-01, -2.2730356e-01,  2.8106436e-02],\n",
              "            [ 8.7965906e-02,  1.5161000e-01, -1.3848971e-02, ...,\n",
              "              1.6166535e-01,  2.1183728e-01, -6.4703353e-02]], dtype=float32),\n",
              "     array([1.6854244 , 1.2979273 , 1.0111951 , 0.83587646, 2.2717557 ,\n",
              "            1.174464  , 1.2097938 , 0.8333579 , 1.5129769 , 1.2865868 ,\n",
              "            1.0122222 , 0.7420179 , 1.4616095 , 1.3716865 , 1.183128  ,\n",
              "            2.0540466 , 0.7297637 , 1.7542948 , 1.4260938 , 1.0854443 ,\n",
              "            0.86481327, 1.7100143 , 0.95269287, 1.4605767 , 1.8531597 ,\n",
              "            1.4426551 , 0.96249163, 1.1918762 , 1.5750595 , 2.8395677 ,\n",
              "            0.6104171 , 1.7534453 , 1.4870973 , 0.9973332 , 1.6693677 ,\n",
              "            1.5615942 , 0.9934437 , 1.4966784 , 1.3405765 , 0.9236135 ,\n",
              "            0.7409323 , 1.3020254 , 1.7708799 , 1.0030404 , 0.80193156,\n",
              "            1.0716376 , 1.493366  , 2.1602647 , 0.8422125 , 1.6722763 ,\n",
              "            1.4617225 , 1.1182904 , 0.7711745 , 0.86279124, 2.00725   ,\n",
              "            1.2961555 , 1.1192496 , 1.2368942 , 1.696922  , 1.1817851 ,\n",
              "            0.9268449 , 1.0085806 , 1.4859127 , 1.4285009 , 1.112943  ,\n",
              "            1.739962  , 1.0019778 , 1.8289869 , 1.5200068 , 1.0460978 ,\n",
              "            1.2855432 , 1.1556262 , 0.5179452 , 1.4512749 , 2.0955215 ,\n",
              "            1.2157683 , 0.8909916 , 1.1306164 , 1.4892405 , 2.0666041 ,\n",
              "            0.51464105, 1.6188123 , 1.3959543 , 1.3240963 , 1.398886  ,\n",
              "            1.7381012 , 1.4586241 , 1.4561127 , 1.2323151 , 0.76638013,\n",
              "            1.1020749 , 1.3235599 , 1.364442  , 1.2431955 , 0.8876695 ,\n",
              "            0.7320451 , 1.2007953 , 1.5502919 , 0.99877405, 1.2763859 ,\n",
              "            1.0426939 , 1.0525128 , 0.8009765 , 0.9399874 , 0.9907789 ,\n",
              "            0.83222485, 1.0317605 , 0.91201544, 1.1327735 , 1.0524918 ,\n",
              "            1.0372494 , 0.88949317, 1.0550225 , 1.1370779 , 0.7050474 ,\n",
              "            1.2664902 , 0.93727463, 0.90847397, 0.95251304, 0.7721647 ,\n",
              "            0.8260327 , 0.8332168 , 0.97942346, 1.0223993 , 1.0006895 ,\n",
              "            1.060646  , 0.9042888 , 1.0394853 , 0.9925131 , 0.38989544,\n",
              "            0.7230699 , 1.0208429 , 1.062438  , 1.0589039 , 1.0775026 ,\n",
              "            1.0874754 , 1.1661438 , 0.9866324 , 1.0852152 , 0.9155094 ,\n",
              "            1.0852442 , 0.9840062 , 0.75459987, 0.99201745, 0.9202928 ,\n",
              "            0.7419778 , 1.0831951 , 1.0849274 , 0.8571488 , 0.9694658 ,\n",
              "            1.194375  , 1.0539739 , 0.9547721 , 0.9202652 , 1.0917386 ,\n",
              "            1.1022308 , 1.0888128 , 0.7548035 , 1.0795542 , 1.1811827 ,\n",
              "            1.353696  , 0.90758467, 1.3962934 , 1.3079231 , 1.0871059 ,\n",
              "            1.2455839 , 0.99197876, 0.9041552 , 1.0928652 , 1.0660387 ,\n",
              "            0.94059443, 1.4588033 , 1.0957755 , 1.0757209 , 1.267846  ,\n",
              "            1.1812643 , 0.94670117, 0.90446424, 1.0446624 , 2.7972755 ,\n",
              "            0.91194886, 1.2462132 , 0.9716122 , 1.2372544 , 1.2981352 ,\n",
              "            1.0619044 , 1.1879133 , 1.0467446 , 1.0551138 , 1.0373522 ,\n",
              "            1.1695648 , 1.2904806 , 1.5025221 , 1.0758194 , 0.88997847,\n",
              "            0.8845719 , 1.2349951 , 1.332449  , 1.0055327 , 1.2380725 ],\n",
              "           dtype=float32)),),\n",
              "   ()),\n",
              "  (array([[ 5.22492409e-01, -3.00267011e-01, -5.76043725e-01,\n",
              "            5.18762350e-01, -3.99674535e-01,  1.64419889e-01,\n",
              "           -3.61355692e-01, -1.72977015e-01, -8.64919871e-02,\n",
              "           -1.06282525e-01, -3.91271472e-01, -4.38841224e-01,\n",
              "           -1.28947124e-01, -8.25695843e-02, -4.35167342e-01,\n",
              "           -1.68992266e-01, -1.52835160e-01],\n",
              "          [ 4.04112905e-01, -1.67354211e-01, -2.51709402e-01,\n",
              "           -1.43934548e-01,  2.43671998e-01,  4.71022487e-01,\n",
              "           -1.73283696e-01,  2.03600943e-01,  4.25134748e-02,\n",
              "           -8.73562768e-02, -4.97560620e-01, -2.58896202e-01,\n",
              "            2.58559108e-01,  1.86556876e-01, -1.71378508e-01,\n",
              "           -4.31724578e-01, -4.34081614e-01],\n",
              "          [ 5.52614443e-02,  1.75628662e-01, -7.04351723e-01,\n",
              "           -2.49994487e-01, -6.04376495e-01,  2.11223602e-01,\n",
              "           -3.01960737e-01, -7.28549838e-01, -6.53434098e-02,\n",
              "           -4.08937812e-01, -3.17913890e-01,  8.83366074e-03,\n",
              "           -9.52698886e-02,  1.47018403e-01, -6.79332167e-02,\n",
              "            3.54560018e-01,  2.11631730e-01],\n",
              "          [-3.59147489e-02,  1.09010863e+00, -4.23903733e-01,\n",
              "           -1.64979771e-01,  4.46146168e-02,  3.71380627e-01,\n",
              "            3.77887279e-01, -2.62679487e-01, -2.77810395e-01,\n",
              "           -5.90043589e-02,  2.83577114e-01,  7.52747478e-03,\n",
              "           -1.87515095e-01, -5.66075921e-01, -3.26092213e-01,\n",
              "            1.72540739e-01, -1.50614560e-01],\n",
              "          [ 4.22573268e-01, -1.27358094e-01,  8.93090889e-02,\n",
              "            4.05784428e-01, -5.10686934e-02, -4.64693904e-01,\n",
              "            9.22672227e-02,  1.39183030e-01,  9.20567214e-02,\n",
              "            2.52354592e-02, -7.87983537e-02, -3.28912959e-02,\n",
              "           -2.01635107e-01, -4.41590816e-01, -3.99357140e-01,\n",
              "           -5.43071628e-01,  3.45393308e-02],\n",
              "          [-2.21701145e-01,  1.05201030e+00,  3.19466263e-01,\n",
              "            6.55409217e-01,  7.94601262e-01,  4.01203394e-01,\n",
              "           -2.41930217e-01, -1.42703581e+00, -1.28299668e-01,\n",
              "           -2.94186532e-01, -3.08514386e-01, -1.87155381e-01,\n",
              "           -7.16864049e-01, -4.50788319e-01,  9.09690857e-02,\n",
              "            8.71396512e-02, -3.75783056e-01],\n",
              "          [-3.94670628e-02, -6.68459356e-01,  5.44112682e-01,\n",
              "           -2.37003058e-01, -7.75517046e-01, -3.03820342e-01,\n",
              "            3.64599198e-01,  1.69453681e-01, -3.42120290e-01,\n",
              "           -2.73573607e-01,  3.32077332e-02, -4.04292196e-01,\n",
              "            2.61205554e-01, -3.58233213e-01, -7.17273206e-02,\n",
              "           -1.00011356e-01, -1.35751124e-02],\n",
              "          [-1.26873897e-02,  6.28863692e-01,  4.45303433e-02,\n",
              "           -6.63247883e-01, -5.81941545e-01,  6.78069174e-01,\n",
              "            1.81016892e-01,  6.96243405e-01,  4.67899404e-02,\n",
              "           -3.33413273e-01, -6.67748451e-01, -1.22301884e-01,\n",
              "           -1.35667056e-01, -3.53891730e-01, -6.11209981e-02,\n",
              "           -5.01504362e-01, -2.33926222e-01],\n",
              "          [ 2.86403835e-01, -1.24878570e-01,  2.58399136e-02,\n",
              "           -5.88641942e-01, -5.48453555e-02, -1.91024333e-01,\n",
              "           -3.46662372e-01, -6.81052446e-01, -3.42517942e-01,\n",
              "           -1.60946369e-01,  5.04518926e-01,  3.82423238e-03,\n",
              "            9.65177491e-02, -2.29205593e-01, -1.63260683e-01,\n",
              "            1.73317656e-01, -4.02356744e-01],\n",
              "          [ 4.32505935e-01,  7.19232634e-02, -5.51506817e-01,\n",
              "           -2.33325660e-01, -8.26672018e-02,  5.25125861e-01,\n",
              "           -2.96465605e-01, -1.77367941e-01, -7.36130029e-02,\n",
              "           -4.07649636e-01, -1.39186457e-01, -3.82155031e-01,\n",
              "            4.94351611e-03,  2.20503062e-01, -2.77898759e-01,\n",
              "           -1.52841955e-02, -4.33646590e-01],\n",
              "          [ 1.76988125e-01,  4.47825193e-01,  2.44967893e-01,\n",
              "           -5.62304497e-01, -1.14976853e-01,  8.75651464e-02,\n",
              "           -4.58624363e-02, -4.26192880e-01,  1.93301052e-01,\n",
              "           -6.91710338e-02, -7.87903190e-01,  8.99584405e-03,\n",
              "            6.64672107e-02, -4.76139337e-02,  3.92017603e-01,\n",
              "            2.26357162e-01, -3.01785171e-01],\n",
              "          [-1.19927853e-01,  7.97016978e-01,  6.32443130e-01,\n",
              "            5.61205387e-01, -5.99712670e-01, -1.92995548e-01,\n",
              "           -5.06583691e-01, -6.36727691e-01, -1.22797422e-01,\n",
              "            2.56529953e-02,  5.24826825e-01, -7.42853247e-03,\n",
              "           -6.32434711e-02,  2.89041668e-01, -1.51149228e-01,\n",
              "           -5.36483586e-01,  1.18176110e-01],\n",
              "          [ 4.57709074e-01, -2.45516673e-01, -7.03083992e-01,\n",
              "            3.33185881e-01, -6.23180389e-01,  2.82489032e-01,\n",
              "           -3.70383203e-01,  2.25939706e-01, -1.43565089e-01,\n",
              "            1.67658851e-01,  8.68608207e-02, -1.21780619e-01,\n",
              "            1.81653365e-01, -7.95933381e-02, -1.31369397e-01,\n",
              "            1.36302680e-01, -2.53608823e-01],\n",
              "          [ 2.91132987e-01,  2.15994287e-02,  2.77102590e-01,\n",
              "           -2.24864021e-01,  5.28830588e-01, -3.65532964e-01,\n",
              "            3.55308592e-01, -2.67890215e-01, -2.47928411e-01,\n",
              "            4.65085804e-02,  3.00757349e-01, -1.93124145e-01,\n",
              "           -3.94805998e-01, -1.19426385e-01, -5.63039899e-01,\n",
              "           -4.99142528e-01, -3.94075811e-01],\n",
              "          [-2.23453805e-01,  1.06039202e+00,  4.82775420e-01,\n",
              "            5.67017198e-01, -8.55074763e-01,  6.61626220e-01,\n",
              "           -6.88900888e-01,  6.55609131e-01, -2.31606901e-01,\n",
              "           -4.72241521e-01,  2.30029985e-01,  5.07244840e-02,\n",
              "           -3.97857964e-01, -3.21961761e-01, -7.28645563e-01,\n",
              "           -5.97576618e-01, -2.85780191e-01],\n",
              "          [ 2.28473783e-01,  2.14988634e-01, -6.33245468e-01,\n",
              "           -2.97629714e-01, -4.28691089e-01, -1.28603712e-01,\n",
              "           -8.88055190e-02, -3.50240380e-01, -3.86497647e-01,\n",
              "            1.21420436e-01,  5.07317781e-01,  4.42964733e-02,\n",
              "            4.24934477e-01, -2.25339666e-01, -5.02384603e-01,\n",
              "           -3.71262610e-01, -4.98380035e-01],\n",
              "          [-1.63695082e-01, -5.88303030e-01, -1.34929731e-01,\n",
              "            6.93596601e-01, -3.95576358e-01,  4.76714909e-01,\n",
              "            4.20461148e-02,  2.21985132e-01, -2.69573987e-01,\n",
              "           -3.66358876e-01,  3.41131598e-01,  7.51820058e-02,\n",
              "           -1.58592671e-01, -1.91948965e-01, -2.17588484e-01,\n",
              "           -8.48015696e-02,  1.90072488e-02],\n",
              "          [ 1.02034263e-01,  2.79471040e-01,  4.97352272e-01,\n",
              "           -2.43766621e-01, -5.60707390e-01,  2.63408780e-01,\n",
              "           -5.91222286e-01, -2.88201898e-01, -2.82364190e-01,\n",
              "           -3.60000461e-01, -4.40491796e-01, -2.59812236e-01,\n",
              "           -5.25629282e-01, -1.16754659e-01,  7.34341741e-02,\n",
              "           -5.84913492e-01, -1.80946719e-02],\n",
              "          [ 3.67322057e-01, -5.77189028e-01, -4.23639081e-02,\n",
              "           -6.32877126e-02, -7.42029101e-02, -4.37420666e-01,\n",
              "           -2.73921698e-01,  1.96201295e-01, -4.18877602e-01,\n",
              "           -1.31240711e-01, -2.64525414e-01, -3.67617488e-01,\n",
              "            4.76701051e-01, -3.19049627e-01, -2.48019516e-01,\n",
              "           -1.11414842e-01, -2.14790419e-01],\n",
              "          [-1.29754096e-01,  2.48156134e-02, -1.48425445e-01,\n",
              "            8.88699591e-01, -4.14236307e-01,  7.95713484e-01,\n",
              "            7.85508454e-01, -8.26169431e-01, -3.73806097e-02,\n",
              "           -1.25360399e-01,  9.11820233e-02,  4.29998040e-02,\n",
              "            2.59737194e-01, -5.50461948e-01, -2.85380721e-01,\n",
              "           -6.62189066e-01, -3.21492523e-01],\n",
              "          [-2.62812227e-01, -7.64828205e-01,  2.96108484e-01,\n",
              "            6.43610954e-01, -9.54106376e-02, -9.53767121e-01,\n",
              "           -3.02402675e-01,  4.00129169e-01, -3.86336535e-01,\n",
              "           -1.66053250e-02,  3.58739883e-01,  6.12522149e-03,\n",
              "            2.89238691e-01, -3.26216936e-01, -1.56232119e-01,\n",
              "            3.83345261e-02, -2.34865382e-01],\n",
              "          [ 2.54942626e-01, -4.82052058e-01, -7.32252479e-01,\n",
              "            4.74952646e-02, -5.61625183e-01, -5.20331860e-01,\n",
              "           -2.24171385e-01,  4.17553186e-02,  1.70720324e-01,\n",
              "           -3.45877595e-02, -9.01532471e-01, -2.00972378e-01,\n",
              "            2.87372530e-01,  1.68675065e-01,  2.81985968e-01,\n",
              "            1.08927846e-01, -1.56412438e-01],\n",
              "          [ 6.87182993e-02, -5.24033308e-01, -4.86984462e-01,\n",
              "           -6.19755566e-01, -6.03793383e-01, -5.91538727e-01,\n",
              "           -2.93026537e-01, -1.14599772e-01, -3.74767989e-01,\n",
              "           -9.95257683e-03, -4.97348040e-01, -5.62906146e-01,\n",
              "            8.75871360e-01, -4.41906989e-01, -4.59717900e-01,\n",
              "           -1.90668285e-01, -2.51278251e-01],\n",
              "          [ 2.83860415e-01, -6.21597767e-01,  3.60506624e-01,\n",
              "           -1.33115783e-01, -2.20012460e-02, -1.41365483e-01,\n",
              "           -1.33905903e-01, -4.77693319e-01, -2.48354778e-01,\n",
              "           -1.81036219e-01, -5.14351666e-01, -1.18651643e-01,\n",
              "            1.70918792e-01, -1.33117363e-01, -1.15978524e-01,\n",
              "           -3.00302684e-01, -3.32199812e-01],\n",
              "          [-2.63424993e-01,  4.40211475e-01,  3.91667366e-01,\n",
              "            6.69456720e-01, -8.90326723e-02,  7.38337994e-01,\n",
              "            2.89319992e-01, -7.13289440e-01,  1.29570678e-01,\n",
              "           -3.32683802e-01,  3.51401448e-01, -3.54277313e-01,\n",
              "           -6.47332251e-01, -1.37902081e-01,  7.81771019e-02,\n",
              "           -4.59978938e-01, -3.43254894e-01],\n",
              "          [ 4.38510835e-01,  3.23934615e-01, -2.41020173e-01,\n",
              "           -1.90129876e-01, -2.48373598e-01, -4.99090701e-02,\n",
              "            9.83321518e-02, -3.23142290e-01, -3.04442763e-01,\n",
              "           -1.13189556e-01, -1.59954906e-01, -2.11109340e-01,\n",
              "           -2.68609703e-01, -5.04755020e-01,  2.63985068e-01,\n",
              "            7.55190328e-02, -2.76284873e-01],\n",
              "          [-1.09361887e-01, -6.47492409e-01, -1.52858689e-01,\n",
              "           -5.96112072e-01,  1.52102530e-01, -4.06115443e-01,\n",
              "           -1.22687712e-01,  6.07140400e-02, -3.67303878e-01,\n",
              "            3.36758196e-02, -6.23483062e-02,  3.59757662e-01,\n",
              "           -3.32621008e-01, -9.32668567e-01,  9.95486826e-02,\n",
              "            3.56584340e-01, -5.92220910e-02],\n",
              "          [ 3.31617087e-01, -5.03506124e-01,  2.61460215e-01,\n",
              "           -1.77441731e-01, -6.55950487e-01, -1.40989184e-01,\n",
              "           -5.33709191e-02, -3.44653875e-01,  1.91584319e-01,\n",
              "           -6.53832406e-02, -6.13427758e-01, -2.21090987e-01,\n",
              "           -2.45919347e-01, -1.95010722e-01, -2.77357161e-01,\n",
              "           -3.02460015e-01, -4.70238894e-01],\n",
              "          [ 5.31833112e-01, -4.71094847e-01, -5.75433016e-01,\n",
              "           -1.62334353e-01,  2.38227900e-02, -3.40687007e-01,\n",
              "           -2.04606399e-01,  1.17438436e-01, -3.17493588e-01,\n",
              "           -6.09255284e-02, -1.90586507e-01, -3.50243121e-01,\n",
              "           -3.62981498e-01, -1.62433341e-01, -7.38168508e-02,\n",
              "           -3.40081096e-01, -3.73968408e-02],\n",
              "          [ 5.40199101e-01,  5.99464953e-01,  2.64185220e-01,\n",
              "            1.11854923e+00, -1.07264268e+00,  8.15554261e-01,\n",
              "           -1.35643494e+00,  8.43949199e-01, -1.88045818e-02,\n",
              "           -3.33660156e-01, -1.16771579e+00, -2.97938138e-01,\n",
              "           -7.29957819e-01, -2.28346884e-01, -1.58297598e-01,\n",
              "           -8.07544291e-01, -4.59286124e-01],\n",
              "          [ 3.05221751e-02, -3.53594273e-01, -2.41475329e-01,\n",
              "           -3.41951340e-01, -9.85349596e-01,  7.05481887e-01,\n",
              "           -1.13184273e-01, -7.16636360e-01,  9.91140828e-02,\n",
              "           -1.89452142e-01, -9.07258019e-02,  1.08113259e-01,\n",
              "           -3.24634790e-01,  5.54517098e-02, -1.41534880e-01,\n",
              "            2.37111524e-01, -1.64440528e-01],\n",
              "          [ 3.62177491e-01,  2.16381714e-01,  3.70851994e-01,\n",
              "            4.62692618e-01, -3.33623588e-01,  5.51848054e-01,\n",
              "            5.78205250e-02, -5.25472641e-01,  2.04113826e-01,\n",
              "           -1.99815780e-01, -2.74214923e-01, -4.07270014e-01,\n",
              "           -2.48084068e-01, -4.16319549e-01, -3.32400531e-01,\n",
              "           -5.12472868e-01, -4.17373240e-01],\n",
              "          [ 3.67569417e-01, -2.63302237e-01, -7.53237084e-02,\n",
              "           -3.81765366e-01, -4.95616764e-01, -3.10622662e-01,\n",
              "           -4.41325642e-02,  8.61776248e-02, -2.55106360e-01,\n",
              "           -2.12387219e-01,  3.16616952e-01,  2.34824866e-02,\n",
              "            1.32826909e-01, -6.44535422e-01, -3.18675429e-01,\n",
              "           -6.68750405e-01, -1.29539510e-02],\n",
              "          [ 1.01901963e-01, -5.67999221e-02, -2.19238356e-01,\n",
              "            9.71220374e-01, -9.46732700e-01,  7.30410695e-01,\n",
              "            8.46439719e-01, -8.25150907e-01, -1.10785067e-01,\n",
              "           -2.15972647e-01,  5.91678560e-01, -2.55152315e-01,\n",
              "           -6.53665900e-01, -2.90349305e-01,  5.40182889e-02,\n",
              "           -6.16701059e-02, -6.39539808e-02],\n",
              "          [ 4.19817120e-01, -5.16562238e-02, -5.17634332e-01,\n",
              "            3.89064774e-02,  1.17138639e-01, -2.68300891e-01,\n",
              "           -1.94658622e-01,  3.42325680e-02, -3.73620123e-01,\n",
              "           -8.29097852e-02,  2.67258018e-01, -1.23883054e-01,\n",
              "           -3.69409949e-01, -3.62399876e-01, -6.79629087e-01,\n",
              "            1.45526290e-01, -1.08446449e-01],\n",
              "          [ 4.48970526e-01,  3.21831182e-02, -1.11019634e-01,\n",
              "           -1.11492701e-01, -8.54404271e-02,  3.40578228e-01,\n",
              "            8.03871304e-02,  5.26210427e-01, -3.28268081e-01,\n",
              "            6.52397573e-02,  4.50341642e-01,  5.14808968e-02,\n",
              "           -6.00921333e-01, -3.35734516e-01, -2.66357690e-01,\n",
              "           -3.08603436e-01, -1.13995962e-01],\n",
              "          [ 1.09846825e-02,  3.56205478e-02,  1.76665619e-01,\n",
              "           -5.03098547e-01,  3.28140318e-01,  4.42327231e-01,\n",
              "            2.03654036e-01,  3.48726884e-02, -7.60957226e-02,\n",
              "           -9.89460722e-02, -2.82514811e-01, -3.48744988e-01,\n",
              "            2.80020852e-02, -7.88114607e-01, -3.52411598e-01,\n",
              "           -4.70479995e-01, -5.92435658e-01],\n",
              "          [-6.22582884e-05, -2.40957081e-01, -3.05581689e-01,\n",
              "            7.37112880e-01, -6.26345754e-01,  6.43571675e-01,\n",
              "            1.12985708e-01,  4.57808197e-01, -1.66287459e-02,\n",
              "           -2.88720906e-01, -4.21509832e-01, -4.08095300e-01,\n",
              "            3.01908910e-01,  9.54955891e-02, -2.78529674e-01,\n",
              "           -4.78266060e-01, -4.76607978e-01],\n",
              "          [ 5.24540365e-01, -5.02445400e-02, -3.52061003e-01,\n",
              "           -4.43094224e-01, -3.01498264e-01, -6.29142284e-01,\n",
              "            3.07413161e-01, -3.63631785e-01, -4.39681917e-01,\n",
              "           -3.99245590e-01,  8.77478253e-03,  5.01419455e-02,\n",
              "            2.55710501e-02, -7.00878143e-01, -1.09079190e-01,\n",
              "           -1.03994653e-01, -8.10173154e-02],\n",
              "          [-1.19782045e-01,  5.95800161e-01,  6.55453622e-01,\n",
              "            2.38709435e-01,  5.85567772e-01,  3.13297391e-01,\n",
              "           -4.78802264e-01, -6.00795090e-01, -1.14559121e-01,\n",
              "            3.57246213e-02, -6.54651523e-02, -2.67522752e-01,\n",
              "           -5.73347390e-01, -5.60121536e-01, -6.64083779e-01,\n",
              "           -3.62119913e-01,  1.00626983e-02],\n",
              "          [ 1.21727191e-01, -4.18006867e-01,  7.13811368e-02,\n",
              "            7.97947824e-01, -4.02392060e-01, -5.18675745e-01,\n",
              "           -6.82298183e-01, -1.09238148e+00, -1.78569824e-01,\n",
              "           -7.93654621e-02,  9.50281799e-01,  1.33493260e-01,\n",
              "           -8.58942151e-01, -4.63274196e-02, -7.98183918e-01,\n",
              "           -8.05208564e-01,  4.72618677e-02],\n",
              "          [ 1.13224998e-01, -5.22088170e-01,  5.34476161e-01,\n",
              "           -2.40443334e-01, -9.04432908e-02, -2.37525627e-01,\n",
              "            7.32684016e-01, -1.52851716e-01, -1.08835265e-01,\n",
              "           -8.98972601e-02, -2.55013071e-02,  1.40439808e-01,\n",
              "           -6.15448177e-01, -3.34072262e-01, -6.00367308e-01,\n",
              "           -4.53568399e-01, -3.25216532e-01],\n",
              "          [ 3.94972384e-01,  9.16032195e-02,  6.35005355e-01,\n",
              "            6.20653570e-01, -8.77909303e-01,  3.39965731e-01,\n",
              "           -6.30401492e-01, -5.64714134e-01,  1.24840133e-01,\n",
              "           -3.12741995e-01, -5.87009728e-01, -2.54345924e-01,\n",
              "           -7.82958984e-01,  3.19272041e-01,  3.00479591e-01,\n",
              "           -3.77016723e-01, -2.64459908e-01],\n",
              "          [-3.91743220e-02,  1.10754780e-02, -2.84384102e-01,\n",
              "            4.42395508e-01,  2.09858686e-01, -4.99879122e-01,\n",
              "           -9.10706043e-01,  7.58859992e-01, -5.65062463e-02,\n",
              "            1.03602551e-01,  5.74107528e-01, -3.93347889e-02,\n",
              "            3.66998076e-01, -4.55251873e-01,  5.28707922e-01,\n",
              "            8.80521908e-02, -3.98709625e-01],\n",
              "          [-1.40591100e-01, -4.29417007e-03,  3.06523126e-02,\n",
              "           -5.93358219e-01, -9.97789443e-01,  2.82077730e-01,\n",
              "           -4.35722858e-01,  8.37878585e-01, -3.75346094e-01,\n",
              "           -1.79947332e-01,  2.14621201e-01, -3.02261319e-02,\n",
              "            1.96065083e-01, -5.44648468e-01,  1.85054287e-01,\n",
              "            1.57266483e-01, -4.41018850e-01],\n",
              "          [ 4.78619397e-01,  4.01760072e-01,  7.67934799e-01,\n",
              "           -8.05917680e-01, -6.95648074e-01, -1.72201172e-01,\n",
              "           -1.55523360e+00,  1.17291439e+00,  9.15536806e-02,\n",
              "           -1.20233011e+00, -1.06491590e+00, -3.47370893e-01,\n",
              "            3.66485298e-01,  7.67261684e-01,  2.37176105e-01,\n",
              "           -7.63584018e-01,  2.68105388e-01],\n",
              "          [ 4.51389760e-01, -5.52120507e-01, -4.23602015e-01,\n",
              "           -2.22692907e-01,  3.81036788e-01, -3.43598247e-01,\n",
              "            4.84142274e-01,  2.48648617e-02, -2.85672873e-01,\n",
              "           -1.97633788e-01,  5.48268676e-01, -1.02515846e-01,\n",
              "           -2.26549566e-01, -4.06838089e-01, -4.04224783e-01,\n",
              "            1.33955255e-01,  1.22038936e-02],\n",
              "          [ 3.88962060e-01,  1.81567445e-01, -7.17053652e-01,\n",
              "            2.15425074e-01, -1.67034537e-01, -2.63409376e-01,\n",
              "            9.80212986e-02, -2.58824915e-01, -1.61426812e-02,\n",
              "            9.19656307e-02,  3.92467558e-01, -4.93264526e-01,\n",
              "           -6.43476546e-01,  1.75854832e-01, -4.32162315e-01,\n",
              "           -2.38268331e-01, -1.59788758e-01],\n",
              "          [ 7.24074692e-02,  9.89253461e-01, -8.72149944e-01,\n",
              "           -4.29509282e-01,  4.46410447e-01, -4.24668521e-01,\n",
              "           -4.08271313e-01,  6.85685635e-01, -3.34988713e-01,\n",
              "           -4.23630416e-01, -4.64578867e-01, -1.47811189e-01,\n",
              "            7.02983916e-01, -6.06167316e-01, -5.19080877e-01,\n",
              "           -7.26843596e-01, -2.54551142e-01],\n",
              "          [ 2.97565311e-01,  3.26346308e-01, -2.74902105e-01,\n",
              "            2.75862604e-01,  4.16763574e-02, -7.67334327e-02,\n",
              "            3.63889307e-01,  5.30533910e-01,  1.30498469e-01,\n",
              "           -2.77325734e-02, -4.11840200e-01, -1.68623656e-01,\n",
              "           -1.00533199e+00, -2.06705406e-02,  4.96292524e-02,\n",
              "           -3.56811970e-01, -1.76163614e-01]], dtype=float32),\n",
              "   array([ 0.19099922,  0.02916801, -0.04365778,  0.29735366, -0.24531348,\n",
              "           0.1660356 , -0.1513697 , -0.23446557, -0.40085268, -0.22247958,\n",
              "          -0.23183118, -0.1637206 , -0.17303191, -0.18167539, -0.16953774,\n",
              "          -0.32299468, -0.31691033], dtype=float32)),\n",
              "  ()),\n",
              " ((), (((), ((), ())), ((), ()), ()), (), ()))"
            ]
          },
          "metadata": {},
          "execution_count": 40
        }
      ]
    },
    {
      "cell_type": "code",
      "source": [
        "# UNQ_C4 (UNIQUE CELL IDENTIFIER, DO NOT EDIT)\n",
        "# GRADED FUNCTION: evaluate_prediction\n",
        "def evaluate_prediction(pred, labels, pad):\n",
        "    \"\"\"\n",
        "    Inputs:\n",
        "        pred: prediction array with shape \n",
        "            (num examples, max sentence length in batch, num of classes)\n",
        "        labels: array of size (batch_size, seq_len)\n",
        "        pad: integer representing pad character\n",
        "    Outputs:\n",
        "        accuracy: float\n",
        "    \"\"\"\n",
        "    ### START CODE HERE (Replace instances of 'None' with your code) ###\n",
        "## step 1 ##\n",
        "    outputs = np.argmax(pred, axis=2)\n",
        "    print(\"outputs shape:\", outputs.shape)\n",
        "\n",
        "## step 2 ##\n",
        "    mask = labels != pad\n",
        "    print(\"mask shape:\", mask.shape, \"mask[0][20:30]:\", mask[0][20:30])\n",
        "## step 3 ##\n",
        "    accuracy = np.sum(outputs == labels) / float(np.sum(mask))\n",
        "    ### END CODE HERE ###\n",
        "    return accuracy"
      ],
      "metadata": {
        "id": "jskHF1AYitoV"
      },
      "execution_count": 41,
      "outputs": []
    },
    {
      "cell_type": "code",
      "source": [
        "# create the evaluation inputs\n",
        "x, y = next(data_generator(len(test_sentences), test_sentences, test_labels, vocab['<PAD>']))\n",
        "print(\"input shapes\", x.shape, y.shape)\n",
        "accuracy = evaluate_prediction(model(x), y, vocab['<PAD>'])\n",
        "print(\"accuracy: \", accuracy)"
      ],
      "metadata": {
        "colab": {
          "base_uri": "https://localhost:8080/"
        },
        "id": "vXh000bEixM6",
        "outputId": "c7f84ec1-e18d-4eb1-83c8-c89d42ce0718"
      },
      "execution_count": 42,
      "outputs": [
        {
          "output_type": "stream",
          "name": "stdout",
          "text": [
            "input shapes (7194, 70) (7194, 70)\n",
            "outputs shape: (7194, 70)\n",
            "mask shape: (7194, 70) mask[0][20:30]: [ True  True  True False False False False False False False]\n",
            "accuracy:  0.9543761\n"
          ]
        }
      ]
    },
    {
      "cell_type": "code",
      "source": [
        "# This is the function you will be using to test your own sentence.\n",
        "def predict(sentence, model, vocab, tag_map):\n",
        "    s = [vocab[token] if token in vocab else vocab['UNK'] for token in sentence.split(' ')]\n",
        "    batch_data = np.ones((1, len(s)))\n",
        "    batch_data[0][:] = s\n",
        "    sentence = np.array(batch_data).astype(int)\n",
        "    output = model(sentence)\n",
        "    outputs = np.argmax(output, axis=2)\n",
        "    labels = list(tag_map.keys())\n",
        "    pred = []\n",
        "    for i in range(len(outputs[0])):\n",
        "        idx = outputs[0][i] \n",
        "        pred_label = labels[idx]\n",
        "        pred.append(pred_label)\n",
        "    return pred"
      ],
      "metadata": {
        "id": "PxxHolL8iz_N"
      },
      "execution_count": 43,
      "outputs": []
    },
    {
      "cell_type": "code",
      "source": [
        "# Try the output for the introduction example\n",
        "#sentence = \"Many French citizens are goin to visit Morocco for summer\"\n",
        "#sentence = \"Sharon Floyd flew to Miami last Friday\"\n",
        "\n",
        "# New york times news:\n",
        "sentence = \"Peter Navarro, the White House director of trade and manufacturing policy of U.S, said in an interview on Sunday morning that the White House was working to prepare for the possibility of a second wave of the coronavirus in the fall, though he said it wouldn’t necessarily come\"\n",
        "s = [vocab[token] if token in vocab else vocab['UNK'] for token in sentence.split(' ')]\n",
        "predictions = predict(sentence, model, vocab, tag_map)\n",
        "for x,y in zip(sentence.split(' '), predictions):\n",
        "    if y != 'O':\n",
        "        print(x,y)"
      ],
      "metadata": {
        "colab": {
          "base_uri": "https://localhost:8080/"
        },
        "id": "bi4x6Ctui2BI",
        "outputId": "00b9b6b3-2da2-4f22-f600-74d48f6d8c4c"
      },
      "execution_count": 44,
      "outputs": [
        {
          "output_type": "stream",
          "name": "stdout",
          "text": [
            "Peter B-per\n",
            "Navarro, I-per\n",
            "White B-org\n",
            "House I-org\n",
            "Sunday B-tim\n",
            "morning I-tim\n",
            "White B-org\n",
            "House I-org\n",
            "coronavirus B-tim\n",
            "fall, B-tim\n"
          ]
        }
      ]
    }
  ]
}