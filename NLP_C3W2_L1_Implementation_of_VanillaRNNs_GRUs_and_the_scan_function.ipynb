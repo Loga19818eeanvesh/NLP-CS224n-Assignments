{
  "nbformat": 4,
  "nbformat_minor": 0,
  "metadata": {
    "colab": {
      "name": "NLP_C3W2_L1_Implementation_of_Vanilla RNNs, GRUs and the scan function.ipynb",
      "provenance": [],
      "authorship_tag": "ABX9TyPWqSPTrujGs3TuydkVspHe",
      "include_colab_link": true
    },
    "kernelspec": {
      "name": "python3",
      "display_name": "Python 3"
    },
    "language_info": {
      "name": "python"
    }
  },
  "cells": [
    {
      "cell_type": "markdown",
      "metadata": {
        "id": "view-in-github",
        "colab_type": "text"
      },
      "source": [
        "<a href=\"https://colab.research.google.com/github/Loga19818eeanvesh/Natural_Language_Processing-Assignments/blob/main/NLP_C3W2_L1_Implementation_of_VanillaRNNs_GRUs_and_the_scan_function.ipynb\" target=\"_parent\"><img src=\"https://colab.research.google.com/assets/colab-badge.svg\" alt=\"Open In Colab\"/></a>"
      ]
    },
    {
      "cell_type": "code",
      "execution_count": 1,
      "metadata": {
        "id": "HGb4NdhCvnA8"
      },
      "outputs": [],
      "source": [
        "import numpy as np\n",
        "from numpy import random\n",
        "from time import perf_counter"
      ]
    },
    {
      "cell_type": "code",
      "source": [
        "def sigmoid(x): # Sigmoid function\n",
        "    return 1.0 / (1.0 + np.exp(-x))"
      ],
      "metadata": {
        "id": "AjzUMx4WFLVH"
      },
      "execution_count": 2,
      "outputs": []
    },
    {
      "cell_type": "code",
      "source": [
        "random.seed(10)                 # Random seed, so your results match ours\n",
        "emb = 128                       # Embedding size\n",
        "T = 256                         # Number of variables in the sequences\n",
        "h_dim = 16                      # Hidden state dimension\n",
        "h_0 = np.zeros((h_dim, 1))      # Initial hidden state\n",
        "# Random initialization of weights and biases\n",
        "w1 = random.standard_normal((h_dim, emb+h_dim))\n",
        "w2 = random.standard_normal((h_dim, emb+h_dim))\n",
        "w3 = random.standard_normal((h_dim, emb+h_dim))\n",
        "b1 = random.standard_normal((h_dim, 1))\n",
        "b2 = random.standard_normal((h_dim, 1))\n",
        "b3 = random.standard_normal((h_dim, 1))\n",
        "X = random.standard_normal((T, emb, 1))\n",
        "weights = [w1, w2, w3, b1, b2, b3]"
      ],
      "metadata": {
        "id": "zLbGUIaPFZD2"
      },
      "execution_count": 3,
      "outputs": []
    },
    {
      "cell_type": "code",
      "source": [
        "def forward_V_RNN(inputs, weights): # Forward propagation for a a single vanilla RNN cell\n",
        "    x, h_t = inputs\n",
        "\n",
        "    # weights.\n",
        "    wh, _, _, bh, _, _ = weights\n",
        "\n",
        "    # new hidden state\n",
        "    h_t = np.dot(wh, np.concatenate([h_t, x])) + bh\n",
        "    h_t = sigmoid(h_t)\n",
        "\n",
        "    return h_t, h_t"
      ],
      "metadata": {
        "id": "V5wxt8l-FkQf"
      },
      "execution_count": 4,
      "outputs": []
    },
    {
      "cell_type": "code",
      "source": [
        "def forward_GRU(inputs, weights): # Forward propagation for a single GRU cell\n",
        "    x, h_t = inputs\n",
        "\n",
        "    # weights.\n",
        "    wu, wr, wc, bu, br, bc = weights\n",
        "\n",
        "    # Update gate\n",
        "    ### START CODE HERE (1-2 lINES) ###\n",
        "    u = np.dot(wu, np.concatenate([h_t, x])) + bu\n",
        "    u = sigmoid(u)\n",
        "    ### END CODE HERE ###\n",
        "    \n",
        "    # Relevance gate\n",
        "    ### START CODE HERE (1-2 lINES) ###\n",
        "    r = np.dot(wr, np.concatenate([h_t, x])) + br\n",
        "    r = sigmoid(u)\n",
        "    ### END CODE HERE ###\n",
        "    \n",
        "    # Candidate hidden state \n",
        "    ### START CODE HERE (1-2 lINES) ###\n",
        "    c = np.dot(wc, np.concatenate([r * h_t, x])) + bc\n",
        "    c = np.tanh(c)\n",
        "    ### END CODE HERE ###\n",
        "    \n",
        "    # New Hidden state h_t\n",
        "    h_t = u* c + (1 - u)* h_t\n",
        "    return h_t, h_t"
      ],
      "metadata": {
        "id": "IVk0kEtjGEki"
      },
      "execution_count": 5,
      "outputs": []
    },
    {
      "cell_type": "code",
      "source": [
        "def scan(fn, elems, weights, h_0=None): # Forward propagation for RNNs\n",
        "    h_t = h_0\n",
        "    ys = []\n",
        "    for x in elems:\n",
        "        ### START CODE HERE (1 lINE) ###\n",
        "        y, h_t = fn([x, h_t], weights)\n",
        "        ### END CODE HERE ###\n",
        "        ys.append(y)\n",
        "    return ys, h_t"
      ],
      "metadata": {
        "id": "_FVWeWTIGpX3"
      },
      "execution_count": 7,
      "outputs": []
    },
    {
      "cell_type": "code",
      "source": [
        "# vanilla RNNs\n",
        "tic = perf_counter()\n",
        "ys, h_T = scan(forward_V_RNN, X, weights, h_0)\n",
        "toc = perf_counter()\n",
        "RNN_time=(toc-tic)*1000\n",
        "print (f\"It took {RNN_time:.2f}ms to run the forward method for the vanilla RNN.\")"
      ],
      "metadata": {
        "colab": {
          "base_uri": "https://localhost:8080/"
        },
        "id": "Rw6Bl29XHaqg",
        "outputId": "353514cf-239e-4546-c574-827e1a79a8f8"
      },
      "execution_count": 8,
      "outputs": [
        {
          "output_type": "stream",
          "name": "stdout",
          "text": [
            "It took 5.25ms to run the forward method for the vanilla RNN.\n"
          ]
        }
      ]
    },
    {
      "cell_type": "code",
      "source": [
        "# GRUs\n",
        "tic = perf_counter()\n",
        "ys, h_T = scan(forward_GRU, X, weights, h_0)\n",
        "toc = perf_counter()\n",
        "GRU_time=(toc-tic)*1000\n",
        "print (f\"It took {GRU_time:.2f}ms to run the forward method for the GRU.\")"
      ],
      "metadata": {
        "colab": {
          "base_uri": "https://localhost:8080/"
        },
        "id": "QL_b8D6DHd0G",
        "outputId": "4adc42db-05cc-4dbf-e510-61e8c4cf7b03"
      },
      "execution_count": 9,
      "outputs": [
        {
          "output_type": "stream",
          "name": "stdout",
          "text": [
            "It took 13.93ms to run the forward method for the GRU.\n"
          ]
        }
      ]
    }
  ]
}